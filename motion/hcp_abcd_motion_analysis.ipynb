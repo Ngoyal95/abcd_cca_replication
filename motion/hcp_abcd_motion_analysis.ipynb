{
 "cells": [
  {
   "cell_type": "code",
   "execution_count": 2,
   "metadata": {},
   "outputs": [],
   "source": [
    "import matplotlib.pyplot as plt\n",
    "import numpy as np\n",
    "from matplotlib import colors\n",
    "from matplotlib.ticker import PercentFormatter\n",
    "\n",
    "import os"
   ]
  },
  {
   "cell_type": "code",
   "execution_count": 5,
   "metadata": {},
   "outputs": [],
   "source": [
    "cwd = os.getcwd()\n",
    "fp = os.path.join(cwd,'rfMRI_motion.txt')\n",
    "data=np.loadtxt(fp)"
   ]
  },
  {
   "cell_type": "code",
   "execution_count": 6,
   "metadata": {},
   "outputs": [
    {
     "data": {
      "text/plain": [
       "array([0.06549885, 0.09819132, 0.08630633, 0.10086415, 0.05946398,\n",
       "       0.08460278, 0.14236588, 0.10007765, 0.12512475, 0.09777252,\n",
       "       0.0699395 , 0.1382595 , 0.0944013 , 0.16177625, 0.0719955 ,\n",
       "       0.06498575, 0.0608257 , 0.087253  , 0.0944253 , 0.06912262,\n",
       "       0.0570109 , 0.06125375, 0.14776525, 0.05733042, 0.0731886 ,\n",
       "       0.11858592, 0.12795025, 0.11982625, 0.0569474 , 0.079357  ,\n",
       "       0.07418075, 0.09548587, 0.0582067 , 0.07804203, 0.07820152,\n",
       "       0.10548502, 0.164327  , 0.116547  , 0.158401  , 0.09147328,\n",
       "       0.05760967, 0.06614947, 0.09259635, 0.08608407, 0.04755865,\n",
       "       0.10822743, 0.09977197, 0.05792232, 0.0765971 , 0.05685317,\n",
       "       0.14730725, 0.14067975, 0.0972489 , 0.2724935 , 0.06001918,\n",
       "       0.0525089 , 0.09901783, 0.10324733, 0.1225135 , 0.10670265,\n",
       "       0.0551594 , 0.05819137, 0.06791405, 0.07338712, 0.07401575,\n",
       "       0.1259635 , 0.06981382, 0.06675652, 0.10689612, 0.10023722,\n",
       "       0.06654253, 0.08191175, 0.07997995, 0.1177804 , 0.06629498,\n",
       "       0.0793952 , 0.0772367 , 0.06006993, 0.0599111 , 0.06578587,\n",
       "       0.10057075, 0.05641277, 0.08623293, 0.07681642, 0.10542512,\n",
       "       0.0831073 , 0.07903528, 0.10162317, 0.07243302, 0.0497213 ,\n",
       "       0.1821375 , 0.1426395 , 0.05855047, 0.126703  , 0.08381763,\n",
       "       0.08826565, 0.11135863, 0.09208005, 0.07494452, 0.09405875,\n",
       "       0.0669956 , 0.07293235, 0.302853  , 0.08057398, 0.05507603,\n",
       "       0.11318365, 0.0698865 , 0.06359982, 0.05874477, 0.08928305,\n",
       "       0.10021758, 0.06927242, 0.10394837, 0.14347825, 0.2508535 ,\n",
       "       0.06441558, 0.19822225, 0.07032727, 0.05668625, 0.08879283,\n",
       "       0.12120175, 0.0658828 , 0.09226905, 0.10359472, 0.13755818,\n",
       "       0.1509915 , 0.06865735, 0.07399425, 0.0598061 , 0.0805551 ,\n",
       "       0.10224717, 0.12634445, 0.07781355, 0.11197   , 0.09069278,\n",
       "       0.0620434 , 0.12660313, 0.18088   , 0.11086013, 0.09161708,\n",
       "       0.10344267, 0.06028385, 0.1016665 , 0.09812467, 0.06127568,\n",
       "       0.2049325 , 0.087491  , 0.1620975 , 0.04738973, 0.1167937 ,\n",
       "       0.10803695, 0.0702469 , 0.08391413, 0.06487703, 0.0598918 ,\n",
       "       0.1150203 , 0.07203532, 0.08920538, 0.0770362 , 0.1110814 ,\n",
       "       0.08167473, 0.0546856 , 0.0858223 , 0.04967208, 0.096588  ,\n",
       "       0.0671386 , 0.0498578 , 0.05458593, 0.05763875, 0.14334725,\n",
       "       0.16848075, 0.05879143, 0.06576698, 0.05173568, 0.0661026 ,\n",
       "       0.07743173, 0.05909433, 0.06194005, 0.0549442 , 0.14359675,\n",
       "       0.0666863 , 0.10406142, 0.0783102 , 0.118293  , 0.05593775,\n",
       "       0.08394483, 0.0931572 , 0.07849155, 0.07883617, 0.08911402,\n",
       "       0.09299478, 0.05322598, 0.09025277, 0.0705628 , 0.0435824 ,\n",
       "       0.1072757 , 0.07504028, 0.06300483, 0.06860772, 0.16393325,\n",
       "       0.07999985, 0.08560487, 0.0671649 , 0.06898525, 0.07032722,\n",
       "       0.08577553, 0.04718268, 0.0712428 , 0.07633057, 0.1228195 ,\n",
       "       0.08270113, 0.092616  , 0.1121606 , 0.1326955 , 0.10164535,\n",
       "       0.10887958, 0.07690012, 0.0617441 , 0.15069675, 0.08579725,\n",
       "       0.0657098 , 0.06212825, 0.0898333 , 0.05236655, 0.11046625,\n",
       "       0.0569744 , 0.09496077, 0.05473745, 0.0614465 , 0.09445515,\n",
       "       0.0797455 , 0.07742338, 0.1857935 , 0.06716703, 0.09549747,\n",
       "       0.09996692, 0.07669672, 0.05311213, 0.1725995 , 0.04788785,\n",
       "       0.0414439 , 0.12785535, 0.07148403, 0.05962912, 0.0812246 ,\n",
       "       0.0536484 , 0.1194869 , 0.07462455, 0.1323245 , 0.139284  ,\n",
       "       0.12229325, 0.0694013 , 0.0959459 , 0.07714417, 0.0956347 ,\n",
       "       0.06692782, 0.07590615, 0.06127758, 0.10901867, 0.141473  ,\n",
       "       0.08387055, 0.14282623, 0.04468432, 0.05350953, 0.07541283,\n",
       "       0.07812468, 0.16792425, 0.0542459 , 0.09229218, 0.0655191 ,\n",
       "       0.0937494 , 0.05968075, 0.08827697, 0.04998453, 0.053964  ,\n",
       "       0.07088422, 0.10212267, 0.1156085 , 0.16116875, 0.09962705,\n",
       "       0.09451158, 0.1168584 , 0.1036805 , 0.13083275, 0.06875257,\n",
       "       0.05524768, 0.08096285, 0.114979  , 0.08734288, 0.16503175,\n",
       "       0.0649505 , 0.06977985, 0.05648132, 0.05920113, 0.07370995,\n",
       "       0.1888415 , 0.09210842, 0.05965725, 0.0878179 , 0.1829085 ,\n",
       "       0.06167193, 0.12116305, 0.06742958, 0.11003203, 0.13388275,\n",
       "       0.06270702, 0.08729682, 0.07860162, 0.09832148, 0.125538  ,\n",
       "       0.068343  , 0.07969843, 0.07086362, 0.09207448, 0.06254735,\n",
       "       0.17121725, 0.07453885, 0.0590456 , 0.08752505, 0.07278985,\n",
       "       0.06454607, 0.070973  , 0.05042062, 0.07510838, 0.09210788,\n",
       "       0.07232475, 0.08466985, 0.06826868, 0.06072765, 0.10451462,\n",
       "       0.06312057, 0.05671403, 0.05416815, 0.11067065, 0.06643375,\n",
       "       0.0876501 , 0.09227853, 0.1070315 , 0.05320247, 0.05361172,\n",
       "       0.04647675, 0.06527782, 0.06366385, 0.05436765, 0.09702648,\n",
       "       0.08570087, 0.08256028, 0.11555315, 0.06294753, 0.08600985,\n",
       "       0.06000197, 0.12496575, 0.07898285, 0.07038905, 0.10599865,\n",
       "       0.0726026 , 0.07653072, 0.10041555, 0.05898568, 0.06316605,\n",
       "       0.06915132, 0.10036012, 0.08484765, 0.07860618, 0.07853585,\n",
       "       0.08749815, 0.10524417, 0.09592072, 0.1198865 , 0.04588415,\n",
       "       0.11368607, 0.09357213, 0.07148335, 0.09210528, 0.0684725 ,\n",
       "       0.13651325, 0.10285788, 0.0597753 , 0.09753583, 0.05714738,\n",
       "       0.12049253, 0.068934  , 0.0550985 , 0.0558842 , 0.06820522,\n",
       "       0.07562528, 0.07450835, 0.10059733, 0.08605583, 0.19694325,\n",
       "       0.0786425 , 0.08760783, 0.10993305, 0.0914814 , 0.06866902,\n",
       "       0.09373045, 0.0835476 , 0.06568333, 0.06591163, 0.16628425,\n",
       "       0.05434633, 0.0804144 , 0.1629905 , 0.05187225, 0.0799554 ,\n",
       "       0.0977584 , 0.13424475, 0.08689187, 0.07713338, 0.07018558,\n",
       "       0.07223095, 0.04852488, 0.14724325, 0.0442227 , 0.13760975,\n",
       "       0.07829387, 0.06616865, 0.09007215, 0.07947118, 0.11467075,\n",
       "       0.10037735, 0.07350258, 0.0679046 , 0.13360775, 0.09061995,\n",
       "       0.10272882, 0.07425037, 0.07864625, 0.05797207, 0.10230203,\n",
       "       0.06604735, 0.10063468, 0.0801513 , 0.118379  , 0.05041952,\n",
       "       0.13398325, 0.0786838 , 0.0632268 , 0.07161145, 0.0991083 ,\n",
       "       0.09964157, 0.0690055 , 0.05455355, 0.14814775, 0.08063792,\n",
       "       0.05848125, 0.149299  , 0.07739163, 0.04742365, 0.06151707,\n",
       "       0.05803337, 0.04977263, 0.1201863 , 0.10092643, 0.1166375 ,\n",
       "       0.06347425, 0.09498885, 0.054518  , 0.0830346 , 0.07153785,\n",
       "       0.0831425 ])"
      ]
     },
     "execution_count": 6,
     "metadata": {},
     "output_type": "execute_result"
    }
   ],
   "source": [
    "data"
   ]
  },
  {
   "cell_type": "code",
   "execution_count": 8,
   "metadata": {},
   "outputs": [
    {
     "name": "stdout",
     "output_type": "stream",
     "text": [
      "0.08919666561822125\n",
      "0.03426365867735693\n"
     ]
    }
   ],
   "source": [
    "# mean and SD\n",
    "mu = np.mean(data)\n",
    "sigma = np.std(data)\n",
    "\n",
    "print(mu)\n",
    "print(sigma)"
   ]
  },
  {
   "cell_type": "code",
   "execution_count": 21,
   "metadata": {},
   "outputs": [
    {
     "data": {
      "image/png": "[encoded data removed]",
      "text/plain": [
       "<Figure size 432x288 with 1 Axes>"
      ]
     },
     "metadata": {
      "needs_background": "light"
     },
     "output_type": "display_data"
    }
   ],
   "source": [
    "num_bins = 50\n",
    "\n",
    "fig, ax = plt.subplots()\n",
    "\n",
    "# the histogram of the data\n",
    "n, bins, patches = ax.hist(data, num_bins, density=1)\n",
    "\n",
    "# add a 'best fit' line\n",
    "y = ((1 / (np.sqrt(2 * np.pi) * sigma)) *\n",
    "     np.exp(-0.5 * (1 / sigma * (bins - mu))**2))\n",
    "ax.plot(bins, y, '--')\n",
    "ax.set_xlabel('Frame displacement')\n",
    "ax.set_ylabel('Probability density')\n",
    "ax.set_title(r'Histogram of motion: $\\mu=${}, $\\sigma=${}'.format(round(mu,4),round(sigma,4)))\n",
    "\n",
    "# Tweak spacing to prevent clipping of ylabel\n",
    "fig.tight_layout()\n",
    "plt.show()"
   ]
  },
  {
   "cell_type": "code",
   "execution_count": 23,
   "metadata": {},
   "outputs": [
    {
     "data": {
      "text/plain": [
       "6.152388347280837"
      ]
     },
     "execution_count": 23,
     "metadata": {},
     "output_type": "execute_result"
    }
   ],
   "source": [
    "fd=0.3\n",
    "zscore = (0.3-mu)/sigma\n",
    "zscore"
   ]
  },
  {
   "cell_type": "code",
   "execution_count": null,
   "metadata": {},
   "outputs": [],
   "source": []
  }
 ],
 "metadata": {
  "kernelspec": {
   "display_name": "Python 3",
   "language": "python",
   "name": "python3"
  },
  "language_info": {
   "codemirror_mode": {
    "name": "ipython",
    "version": 3
   },
   "file_extension": ".py",
   "mimetype": "text/x-python",
   "name": "python",
   "nbconvert_exporter": "python",
   "pygments_lexer": "ipython3",
   "version": "3.7.6"
  }
 },
 "nbformat": 4,
 "nbformat_minor": 4
}
